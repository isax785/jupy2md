{
 "cells": [
  {
   "cell_type": "markdown",
   "id": "a4c978c8",
   "metadata": {},
   "source": [
    "# DEV - `Jupy2Md` Class\n",
    "\n",
    "- [ ] handle both **absolute** and **relative** paths\n",
    "- [ ] full working via command line (relative path)\n",
    "- [ ] tedt export folder: default and custom\n",
    "- [ ] check export image folder"
   ]
  },
  {
   "cell_type": "code",
   "execution_count": 14,
   "id": "d6244fb8",
   "metadata": {},
   "outputs": [
    {
     "name": "stdout",
     "output_type": "stream",
     "text": [
      "The autoreload extension is already loaded. To reload it, use:\n",
      "  %reload_ext autoreload\n"
     ]
    }
   ],
   "source": [
    "%load_ext autoreload\n",
    "%autoreload 2\n",
    "\n",
    "import sys\n",
    "sys.path.append('..')\n",
    "import os\n",
    "\n",
    "from obj.jupy2md import Jupy2Md"
   ]
  },
  {
   "cell_type": "code",
   "execution_count": 16,
   "id": "70934ab9",
   "metadata": {},
   "outputs": [
    {
     "data": {
      "text/plain": [
       "'c:\\\\Users\\\\isax7\\\\Desktop\\\\jupy2md\\\\dev'"
      ]
     },
     "execution_count": 16,
     "metadata": {},
     "output_type": "execute_result"
    }
   ],
   "source": [
    "os.path.abspath(os.path.curdir)"
   ]
  },
  {
   "cell_type": "markdown",
   "id": "f6591a7f",
   "metadata": {},
   "source": [
    "## Testing Filepath\n",
    "\n",
    "Testing absolute and relative filepath to ensure the conversion will work properly also from command line."
   ]
  },
  {
   "cell_type": "code",
   "execution_count": null,
   "id": "a53adf56",
   "metadata": {},
   "outputs": [
    {
     "data": {
      "text/plain": [
       "'c:\\\\Users\\\\isax7\\\\Desktop\\\\jupy2md\\\\src\\\\test.ipynb'"
      ]
     },
     "execution_count": 7,
     "metadata": {},
     "output_type": "execute_result"
    }
   ],
   "source": [
    "filepath_rel = \"../src/test.ipynb\"\n",
    "\n",
    "j2m_rel = Jupy2Md(filepath_rel)\n",
    "j2m_rel.filepath"
   ]
  },
  {
   "cell_type": "code",
   "execution_count": 8,
   "id": "0fd82db0",
   "metadata": {},
   "outputs": [
    {
     "data": {
      "text/plain": [
       "'C:\\\\Users\\\\isax7\\\\Desktop\\\\jupy2md\\\\src\\\\test.ipynb'"
      ]
     },
     "execution_count": 8,
     "metadata": {},
     "output_type": "execute_result"
    }
   ],
   "source": [
    "filepath_abs = \"C:\\\\Users\\\\isax7\\\\Desktop\\\\jupy2md\\\\src\\\\test.ipynb\"\n",
    "\n",
    "j2m_abs = Jupy2Md(filepath_abs)\n",
    "j2m_abs.filepath"
   ]
  },
  {
   "cell_type": "markdown",
   "id": "4df36fab",
   "metadata": {},
   "source": [
    "## Conversion"
   ]
  },
  {
   "cell_type": "code",
   "execution_count": 11,
   "id": "2a892efb",
   "metadata": {},
   "outputs": [
    {
     "name": "stdout",
     "output_type": "stream",
     "text": [
      "# Test Notebook\n",
      "\n",
      "test notebook for markdown conversion\n",
      "\n",
      "```python\n",
      "%load_ext autoreload\n",
      "%autoreload 2\n",
      "\n",
      "from jupy2md import Jupy2Md\n",
      "\n",
      "\n",
      "filename = \"test.ipynb\"\n",
      "\n",
      "md = Jupy2Md(filename)\n",
      "\n",
      "settings = {}\n",
      "md.text\n",
      "```\n",
      "\n",
      "```text\n",
      "The autoreload extension is already loaded. To reload it, use:\n",
      "  %reload_ext autoreload\n",
      "\n",
      "```\n",
      "\n",
      "```text\n",
      "'# Test Notebook\\n\\ntest notebook for markdown conversion\\n\\n```python\\n%load_ext autoreload\\n%autoreload 2\\n\\nfrom jupy2md import Jupy2Md\\n\\nsettings = {}\\n\\nfilename = \"test.ipynb\"\\n\\nmd = Jupy2Md(filename)\\n\\nmd.text\\n```\\n\\n```python\\nfor i in range(2):\\n    print(i)\\n```\\n```text\\n0\\n1\\n\\n```\\nmarkdown cell with image:\\n\\n\\n<img align=\"center\" width=\"90%\" src=\"./img_md/image0.png\" alt=\"image0.png\">\\nA markdown cell with some code:\\n\\n```python\\n    import matplotlib.pyplot as plt\\n```\\n\\nend of the markdown cell. Next a codeblock:\\n\\n```python\\nimport matplotlib.pyplot as plt\\n\\nprint(\"a printout message within a graph cell ...\")\\n\\nNP = 10\\n\\nplt.figure(figsize=(5, 3))\\nplt.plot([_ for _ in range(NP)],\\n         [_**2 for _ in range(NP)],\\n         \\'r\\',\\n         label=\"curve\")\\nplt.grid()\\nplt.legend()\\n```\\n```text\\na printout message within a graph cell ...\\n\\n```\\n```\\n<matplotlib.legend.Legend at 0x2048ae32ed0>\\n```\\n```\\n<Figure size 500x300 with 1 Axes>\\n```\\n<img align=\"center\" width=\"90%\" src=\"./img_md/image1.png\" alt=\"image1.png\">\\n'\n",
      "```\n",
      "\n",
      "```python\n",
      "for i in range(2):\n",
      "    print(i)\n",
      "```\n",
      "\n",
      "```text\n",
      "0\n",
      "1\n",
      "\n",
      "```\n",
      "markdown cell with image:\n",
      "\n",
      "\n",
      "<img align=\"center\" width=\"90%\" src=\"./img_md/image0.png\" alt=\"image0.png\">\n",
      "A markdown cell with some code:\n",
      "\n",
      "```python\n",
      "    import matplotlib.pyplot as plt\n",
      "```\n",
      "\n",
      "end of the markdown cell. Next a codeblock:\n",
      "\n",
      "```python\n",
      "import matplotlib.pyplot as plt\n",
      "\n",
      "print(\"a printout message within a graph cell ...\")\n",
      "\n",
      "NP = 10\n",
      "\n",
      "plt.figure(figsize=(5, 3))\n",
      "plt.plot([_ for _ in range(NP)],\n",
      "         [_**2 for _ in range(NP)],\n",
      "         'r',\n",
      "         label=\"curve\")\n",
      "plt.grid()\n",
      "plt.legend()\n",
      "```\n",
      "\n",
      "```text\n",
      "a printout message within a graph cell ...\n",
      "\n",
      "```\n",
      "\n",
      "```text\n",
      "<matplotlib.legend.Legend at 0x2048ae32ed0>\n",
      "```\n",
      "\n",
      "```text\n",
      "<Figure size 500x300 with 1 Axes>\n",
      "```\n",
      "<img align=\"center\" width=\"90%\" src=\"./img_md/image1.png\" alt=\"image1.png\">\n",
      "\n"
     ]
    }
   ],
   "source": [
    "j2m_rel.convert_to_md()\n",
    "\n",
    "print(j2m_rel.text)"
   ]
  },
  {
   "cell_type": "markdown",
   "id": "96465eea",
   "metadata": {},
   "source": [
    "## Export"
   ]
  }
 ],
 "metadata": {
  "kernelspec": {
   "display_name": "Python 3",
   "language": "python",
   "name": "python3"
  },
  "language_info": {
   "codemirror_mode": {
    "name": "ipython",
    "version": 3
   },
   "file_extension": ".py",
   "mimetype": "text/x-python",
   "name": "python",
   "nbconvert_exporter": "python",
   "pygments_lexer": "ipython3",
   "version": "3.11.7"
  }
 },
 "nbformat": 4,
 "nbformat_minor": 5
}
